{
 "cells": [
  {
   "cell_type": "code",
   "execution_count": 63,
   "metadata": {},
   "outputs": [],
   "source": [
    "import matplotlib.pyplot as plt\n",
    "import seaborn as sns"
   ]
  },
  {
   "cell_type": "code",
   "execution_count": 94,
   "metadata": {},
   "outputs": [],
   "source": [
    "file_name = \"withoutbn.txt\""
   ]
  },
  {
   "cell_type": "code",
   "execution_count": 95,
   "metadata": {},
   "outputs": [],
   "source": [
    "logs = open(file_name).read().split(\"\\n\")"
   ]
  },
  {
   "cell_type": "code",
   "execution_count": 96,
   "metadata": {},
   "outputs": [],
   "source": [
    "def get_loss(line):\n",
    "    return float(line.split(\",\")[1].split(\"=\")[1].strip())"
   ]
  },
  {
   "cell_type": "code",
   "execution_count": 97,
   "metadata": {},
   "outputs": [],
   "source": [
    "train_logs = list(filter (lambda x: x.startswith('Train'), logs))\n",
    "val_logs = list(filter (lambda x: x.startswith('Valid'), logs))\n",
    "train_loss = list(map(lambda x: get_loss(x), train_logs))\n",
    "val_loss = list(map(lambda x: get_loss(x), val_logs))"
   ]
  },
  {
   "cell_type": "code",
   "execution_count": 98,
   "metadata": {},
   "outputs": [
    {
     "data": {
      "text/plain": [
       "['Training Accuracy = 0.6147317073170732, Training Loss = 0.6511341165682165, Time Taken = 291.7123234272003 seconds',\n",
       " 'Training Accuracy = 0.6261707317073171, Training Loss = 0.6404758990683207, Time Taken = 291.8769094944 seconds',\n",
       " 'Training Accuracy = 0.6348292682926829, Training Loss = 0.6334555104030827, Time Taken = 292.1957552433014 seconds',\n",
       " 'Training Accuracy = 0.6418292682926829, Training Loss = 0.6278814143116881, Time Taken = 292.4538764953613 seconds',\n",
       " 'Training Accuracy = 0.6475414634146341, Training Loss = 0.6233424333130441, Time Taken = 292.24575209617615 seconds',\n",
       " 'Training Accuracy = 0.6522682926829269, Training Loss = 0.6197787661242291, Time Taken = 291.90076088905334 seconds',\n",
       " 'Training Accuracy = 0.656759581881533, Training Loss = 0.6164671637505189, Time Taken = 291.7890577316284 seconds',\n",
       " 'Training Accuracy = 0.6607743902439024, Training Loss = 0.6136393862846421, Time Taken = 291.77466797828674 seconds',\n",
       " 'Training Accuracy = 0.6641626016260163, Training Loss = 0.6111258172769211, Time Taken = 291.56621289253235 seconds',\n",
       " 'Training Accuracy = 0.667380487804878, Training Loss = 0.6087418778686988, Time Taken = 291.5389711856842 seconds',\n",
       " 'Training Accuracy = 0.6700665188470066, Training Loss = 0.6065795823570894, Time Taken = 292.07234716415405 seconds',\n",
       " 'Training Accuracy = 0.6722439024390244, Training Loss = 0.6046295727704598, Time Taken = 291.8030016422272 seconds',\n",
       " 'Training Accuracy = 0.6744803001876173, Training Loss = 0.6027157356618269, Time Taken = 292.5480637550354 seconds',\n",
       " 'Training Accuracy = 0.6762229965156794, Training Loss = 0.6010092399992594, Time Taken = 292.6774814128876 seconds',\n",
       " 'Training Accuracy = 0.6780845528455285, Training Loss = 0.59940172459362, Time Taken = 293.0747539997101 seconds']"
      ]
     },
     "execution_count": 98,
     "metadata": {},
     "output_type": "execute_result"
    }
   ],
   "source": [
    "train_logs"
   ]
  },
  {
   "cell_type": "code",
   "execution_count": 99,
   "metadata": {},
   "outputs": [
    {
     "data": {
      "text/plain": [
       "['Validation Accuracy = 0.6264, Validation Loss = 0.6382949010849, Time Taken = 19.20448088645935 seconds',\n",
       " 'Validation Accuracy = 0.6354, Validation Loss = 0.6314762495517731, Time Taken = 16.59547996520996 seconds',\n",
       " 'Validation Accuracy = 0.6410666666666667, Validation Loss = 0.6259456636110942, Time Taken = 17.064831018447876 seconds',\n",
       " 'Validation Accuracy = 0.6474, Validation Loss = 0.6214182907342911, Time Taken = 16.506061553955078 seconds',\n",
       " 'Validation Accuracy = 0.65232, Validation Loss = 0.6179125977325439, Time Taken = 17.02451229095459 seconds',\n",
       " 'Validation Accuracy = 0.6556, Validation Loss = 0.6155882348219553, Time Taken = 16.439465045928955 seconds',\n",
       " 'Validation Accuracy = 0.6586285714285715, Validation Loss = 0.6134140589577811, Time Taken = 16.720098733901978 seconds',\n",
       " 'Validation Accuracy = 0.66205, Validation Loss = 0.6107724071145058, Time Taken = 16.503398418426514 seconds',\n",
       " 'Validation Accuracy = 0.6643555555555556, Validation Loss = 0.6087777230421703, Time Taken = 16.857919931411743 seconds',\n",
       " 'Validation Accuracy = 0.66648, Validation Loss = 0.6069168530511856, Time Taken = 17.43125867843628 seconds',\n",
       " 'Validation Accuracy = 0.6692, Validation Loss = 0.6048057775280692, Time Taken = 18.579153299331665 seconds',\n",
       " 'Validation Accuracy = 0.6711, Validation Loss = 0.6030433277805646, Time Taken = 16.52164936065674 seconds',\n",
       " 'Validation Accuracy = 0.6723692307692307, Validation Loss = 0.6019153541895059, Time Taken = 17.07622480392456 seconds',\n",
       " 'Validation Accuracy = 0.6734571428571429, Validation Loss = 0.6008769340549196, Time Taken = 17.413115739822388 seconds',\n",
       " 'Validation Accuracy = 0.6755733333333334, Validation Loss = 0.5992495576826732, Time Taken = 17.17509365081787 seconds']"
      ]
     },
     "execution_count": 99,
     "metadata": {},
     "output_type": "execute_result"
    }
   ],
   "source": [
    "val_logs"
   ]
  },
  {
   "cell_type": "code",
   "execution_count": 100,
   "metadata": {},
   "outputs": [
    {
     "data": {
      "image/png": "[encoded data removed]",
      "text/plain": [
       "<matplotlib.figure.Figure at 0x7fca2546db00>"
      ]
     },
     "metadata": {},
     "output_type": "display_data"
    }
   ],
   "source": [
    "title = \"Training and validation loss without BN\"\n",
    "train_plt = plt.plot(train_loss, label=\"Training Loss\")\n",
    "val_plt = plt.plot(val_loss, label=\"Validation Loss\")\n",
    "plt.ylabel('Loss')\n",
    "plt.xlabel('Number of epochs')\n",
    "plt.legend()\n",
    "plt.title(title)\n",
    "plt.savefig(title+\".png\")\n",
    "plt.show()"
   ]
  },
  {
   "cell_type": "code",
   "execution_count": null,
   "metadata": {},
   "outputs": [],
   "source": []
  },
  {
   "cell_type": "code",
   "execution_count": null,
   "metadata": {},
   "outputs": [],
   "source": []
  }
 ],
 "metadata": {
  "kernelspec": {
   "display_name": "Python [default]",
   "language": "python",
   "name": "python3"
  },
  "language_info": {
   "codemirror_mode": {
    "name": "ipython",
    "version": 3
   },
   "file_extension": ".py",
   "mimetype": "text/x-python",
   "name": "python",
   "nbconvert_exporter": "python",
   "pygments_lexer": "ipython3",
   "version": "3.6.3"
  }
 },
 "nbformat": 4,
 "nbformat_minor": 2
}
