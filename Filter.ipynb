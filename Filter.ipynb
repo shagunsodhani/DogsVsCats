{
 "cells": [
  {
   "cell_type": "code",
   "execution_count": 114,
   "metadata": {
    "collapsed": true
   },
   "outputs": [],
   "source": [
    "from __future__ import print_function, division\n",
    "\n",
    "import torch\n",
    "import numpy as np\n",
    "import torchvision\n",
    "import matplotlib.pyplot as plt\n",
    "from torch.utils.data import DataLoader\n",
    "from torchvision.datasets import ImageFolder\n",
    "import torchvision.transforms as transforms\n",
    "import torchvision.models as models\n",
    "import time\n",
    "import os\n",
    "import copy\n",
    "import cv2\n",
    "from util import *\n",
    "\n",
    "plt.ion()"
   ]
  },
  {
   "cell_type": "code",
   "execution_count": 115,
   "metadata": {
    "collapsed": true
   },
   "outputs": [],
   "source": [
    "image_mean = [0.485, 0.456, 0.406]\n",
    "image_std = [0.229, 0.224, 0.225]\n",
    "normalize = transforms.Normalize(mean=image_mean,\n",
    "                                     std=image_std)\n",
    "data_transforms = {\n",
    "    TRAIN : transforms.Compose([\n",
    "        transforms.Resize(256),\n",
    "        transforms.CenterCrop(image_size),\n",
    "        transforms.RandomHorizontalFlip(),\n",
    "        transforms.RandomVerticalFlip(),\n",
    "        transforms.ToTensor(),\n",
    "        normalize\n",
    "    ]),\n",
    "    VAL : transforms.Compose([\n",
    "        transforms.Resize(256),\n",
    "        transforms.CenterCrop(image_size),\n",
    "        transforms.ToTensor(),\n",
    "        normalize\n",
    "    ]),\n",
    "    TEST : transforms.Compose([\n",
    "    transforms.Resize(256),\n",
    "    transforms.CenterCrop(image_size),\n",
    "    transforms.ToTensor(),\n",
    "    normalize\n",
    "    ]),\n",
    "}\n"
   ]
  },
  {
   "cell_type": "code",
   "execution_count": 116,
   "metadata": {
    "collapsed": true
   },
   "outputs": [],
   "source": [
    "train_dataset = ImageFolder(root=train_dir,\n",
    "                           transform = data_transforms[TRAIN])\n",
    "train_loader = DataLoader(train_dataset, \n",
    "                         batch_size=batch_size,\n",
    "                         shuffle=True,\n",
    "                         num_workers = num_workers)\n",
    "\n",
    "val_dataset = ImageFolder(root=val_dir,\n",
    "                           transform = data_transforms[VAL])\n",
    "val_loader = DataLoader(val_dataset, \n",
    "                         batch_size=batch_size,\n",
    "                         shuffle=True,\n",
    "                         num_workers = num_workers)\n",
    "\n",
    "test_dataset = ImageFolder(root=test_dir,\n",
    "                           transform = data_transforms[TEST])\n",
    "test_loader = DataLoader(test_dataset, \n",
    "                         batch_size=batch_size,\n",
    "                         shuffle=True,\n",
    "                         num_workers = num_workers)\n",
    "\n",
    "class_names = train_dataset.classes"
   ]
  },
  {
   "cell_type": "code",
   "execution_count": 117,
   "metadata": {
    "collapsed": true
   },
   "outputs": [],
   "source": [
    "def imshow(inp, title=None):\n",
    "    inp = inp.transpose((1, 2, 0))\n",
    "    mean = np.array(image_mean)\n",
    "    std = np.array(image_std)\n",
    "    inp = std * inp + mean\n",
    "    inp = np.clip(inp, 0, 1)\n",
    "    plt.imshow(inp)\n",
    "    if title is not None:\n",
    "        plt.title(title)\n",
    "    plt.pause(0.001)  # pause a bit so that plots are updated\n",
    "    i = np.random.randint(1000)\n",
    "    plt.imsave(\"confused\"+str(i)+\".png\", inp)\n",
    "\n",
    "\n",
    "# Get a batch of training data\n",
    "batch_to_view = next(iter(train_loader))\n",
    "inputs, classes = batch_to_view[0][:4], batch_to_view[1][:4]\n",
    "\n",
    "# Make a grid from batch\n",
    "out = torchvision.utils.make_grid(inputs)\n",
    "\n",
    "# imshow(out, title=[class_names[x] for x in classes])"
   ]
  },
  {
   "cell_type": "code",
   "execution_count": 118,
   "metadata": {
    "collapsed": true
   },
   "outputs": [],
   "source": [
    "def get_model(model_name=RESNET50, use_cuda=True):\n",
    "    model = None\n",
    "    if(model_name==RESNET50):\n",
    "        model = models.resnet50(pretrained=True)\n",
    "        model.fc = torch.nn.Linear(in_features=2048, out_features=2)\n",
    "    if(model_name==RESNET101):\n",
    "        model = models.resnet101(pretrained=True)\n",
    "        model.fc = torch.nn.Linear(in_features=2048, out_features=2)\n",
    "    if(use_cuda):\n",
    "        return model.cuda()\n",
    "    else:\n",
    "        return model\n",
    "\n",
    "def get_loss_fn(use_cuda=True):\n",
    "    if(use_cuda):\n",
    "        return torch.nn.CrossEntropyLoss().cuda()\n",
    "    else:\n",
    "        return torch.nn.CrossEntropyLoss()\n",
    "\n",
    "def get_optimizer(model, learning_rate):\n",
    "    return torch.optim.SGD(\n",
    "        model.fc.parameters(), learning_rate\n",
    "    )\n",
    "\n",
    "def get_lr_scheduler(optimizer, step_size = 100, gamma=0.1):\n",
    "    return torch.optim.lr_scheduler.StepLR(optimizer=optimizer, step_size=step_size, gamma=gamma)\n",
    "\n",
    "def persist_model(model_state, save_path):\n",
    "    torch.save(model_state, save_path)\n"
   ]
  },
  {
   "cell_type": "code",
   "execution_count": 119,
   "metadata": {
    "collapsed": true
   },
   "outputs": [],
   "source": [
    "class ModelMetric():\n",
    "    '''class to track the avergae accuracy for the model with different datasets\n",
    "    '''\n",
    "    \n",
    "    def __init__(self):\n",
    "        self.correct_count = 0.0\n",
    "        self.total_count = 0.0\n",
    "        self.total_loss = 0.0\n",
    "    \n",
    "    def update(self, correct_count, count, loss):\n",
    "        self.correct_count+=correct_count\n",
    "        self.total_count+=count\n",
    "        if(use_cuda):\n",
    "            loss = loss.cpu().data.numpy()[0]\n",
    "        else:\n",
    "            loss = loss.data.numpy()[0]\n",
    "        self.total_loss+=loss*count\n",
    "    \n",
    "    @property\n",
    "    def accuracy(self):\n",
    "        return self.correct_count/self.total_count\n",
    "    \n",
    "    @property\n",
    "    def average_loss(self):\n",
    "        return self.total_loss/self.total_count"
   ]
  },
  {
   "cell_type": "code",
   "execution_count": 120,
   "metadata": {
    "collapsed": true
   },
   "outputs": [],
   "source": [
    "def compute_accuracy(y_pred, labels):\n",
    "    \"\"\"Computes the number of correct matches in y_pred\"\"\"\n",
    "    _, predictions = y_pred.topk(k = 1, dim=1)\n",
    "    batch_size = labels.size(0)\n",
    "    correct_count = torch.sum(predictions.eq(labels.view(-1, 1).expand_as(predictions)))\n",
    "    if(use_cuda):\n",
    "        correct_count = correct_count.cpu().data.numpy()[0]\n",
    "    else:\n",
    "        correct_count = correct_count.data.numpy()[0]\n",
    "    total_count = labels.shape[0]\n",
    "    return (correct_count, total_count)"
   ]
  },
  {
   "cell_type": "code",
   "execution_count": 121,
   "metadata": {
    "collapsed": true
   },
   "outputs": [],
   "source": [
    "def val(model, val_loader, loss_fn, metric):\n",
    "    \n",
    "    model.eval()\n",
    "    start_time = time.time()\n",
    "    \n",
    "    for (images, labels) in val_loader:\n",
    "        images = torch.autograd.Variable(images, volatile=True)\n",
    "        labels = torch.autograd.Variable(labels, volatile=True)\n",
    "        if(use_cuda):\n",
    "            images = images.cuda()\n",
    "            labels = labels.cuda()\n",
    "        \n",
    "        predictions = model(images)\n",
    "        predictions_loss = loss_fn(predictions, labels)\n",
    "        num_correct_predictions, num_total_predictions = compute_accuracy(predictions, labels)\n",
    "        metric.update(num_correct_predictions, num_total_predictions, predictions_loss)\n",
    "        \n",
    "    print(\"Validation Accuracy = {}, Validation Loss = {}, Time Taken = {} seconds\".format(\n",
    "        metric.accuracy,\n",
    "        metric.average_loss,\n",
    "        time.time() - start_time\n",
    "    ))\n",
    "    return metric"
   ]
  },
  {
   "cell_type": "code",
   "execution_count": 122,
   "metadata": {
    "collapsed": true
   },
   "outputs": [],
   "source": [
    "def train(model, train_loader, loss_fn, optimizer, metric = None):\n",
    "    running_loss = 0\n",
    "    \n",
    "    model.train()\n",
    "    \n",
    "    start_time = time.time()\n",
    "    \n",
    "    for (images, labels) in train_loader:\n",
    "        images = torch.autograd.Variable(images)\n",
    "        labels = torch.autograd.Variable(labels)\n",
    "        if(use_cuda):\n",
    "            images = images.cuda()\n",
    "            labels = labels.cuda()\n",
    "            \n",
    "        predictions = model(images)\n",
    "        predictions_loss = loss_fn(predictions, labels)\n",
    "        num_correct_predictions, num_total_predictions = compute_accuracy(predictions, labels)\n",
    "        metric.update(num_correct_predictions, num_total_predictions, predictions_loss)\n",
    "        optimizer.zero_grad()\n",
    "        predictions_loss.backward()\n",
    "        optimizer.step()\n",
    "        running_loss += predictions_loss.data[0]\n",
    "        \n",
    "    print(\"Training Accuracy = {}, Training Loss = {}, Time Taken = {} seconds\".format(\n",
    "        train_metric.accuracy,\n",
    "        train_metric.average_loss,\n",
    "        time.time() - start_time\n",
    "    ))\n",
    "    return metric"
   ]
  },
  {
   "cell_type": "code",
   "execution_count": 123,
   "metadata": {
    "collapsed": true
   },
   "outputs": [],
   "source": [
    "use_cuda = True\n",
    "model = get_model(model_name=model_name, \n",
    "                 use_cuda=use_cuda)\n",
    "loss_fn = get_loss_fn(use_cuda=use_cuda)\n",
    "optimizer = get_optimizer(model=model, \n",
    "                          learning_rate=learning_rate)\n",
    "lr_scheduler = get_lr_scheduler(optimizer=optimizer)"
   ]
  },
  {
   "cell_type": "code",
   "execution_count": 124,
   "metadata": {
    "collapsed": true
   },
   "outputs": [],
   "source": [
    "checkpoint = torch.load(\"model/checkpoint_epoch_19_val_accuracy_9880_val_loss_492.path.tar\")\n",
    "model.load_state_dict(checkpoint['state_dict'])"
   ]
  },
  {
   "cell_type": "code",
   "execution_count": 125,
   "metadata": {
    "collapsed": true
   },
   "outputs": [],
   "source": [
    "for (i, (images, labels)) in enumerate(val_loader):\n",
    "    images = torch.autograd.Variable(images).cuda()\n",
    "    break"
   ]
  },
  {
   "cell_type": "code",
   "execution_count": 126,
   "metadata": {
    "collapsed": true
   },
   "outputs": [],
   "source": [
    "model.eval()\n",
    "x = images\n",
    "x = model.conv1(x)\n",
    "# model.train()"
   ]
  },
  {
   "cell_type": "code",
   "execution_count": 127,
   "metadata": {},
   "outputs": [
    {
     "name": "stdout",
     "output_type": "stream",
     "text": [
      "torch.Size([64, 3, 7, 7])\n"
     ]
    },
    {
     "data": {
      "image/png": "[encoded data removed]",
      "text/plain": [
       "<matplotlib.figure.Figure at 0x7f95bea5e5c0>"
      ]
     },
     "metadata": {},
     "output_type": "display_data"
    }
   ],
   "source": [
    "def visualise_tensor(tensor, ch=0, allkernels=False, nrow=8, padding=1): \n",
    "    \n",
    "    n,c,w,h = tensor.shape\n",
    "    if allkernels: tensor = tensor.view(n*c,-1,w,h )\n",
    "    elif c != 3: tensor = tensor[:,ch,:,:].unsqueeze(dim=1)\n",
    "        \n",
    "    rows = np.min( (tensor.shape[0]//nrow + 1, 64 )  )    \n",
    "    grid = torchvision.utils.make_grid(tensor, nrow=nrow, normalize=True, padding=padding)\n",
    "    plt.figure( figsize=(nrow,rows) )\n",
    "    plt.imshow(grid.cpu().numpy().transpose((1, 2, 0)))\n",
    "\n",
    "def save_tensor(tensor, filename, ch=0, allkernels=False, nrow=8, padding=2):\n",
    "\n",
    "    n,c,w,h = tensor.shape\n",
    "    if allkernels: tensor = tensor.view(n*c,-1,w,h )\n",
    "    elif c != 3: tensor = tensor[:,ch,:,:].unsqueeze(dim=1)    \n",
    "    torchvision.utils.save_image(tensor, filename, nrow=nrow )\n",
    "\n",
    "\n",
    "ik = 0\n",
    "kernel = model.conv1.weight.data.clone()\n",
    "print(kernel.shape)\n",
    "\n",
    "visualise_tensor(kernel, ch=0, allkernels=False)\n",
    "save_tensor(kernel,'conv1.png', allkernels=False)\n",
    "\n",
    "plt.axis('off')\n",
    "plt.ioff()\n",
    "plt.show()"
   ]
  },
  {
   "cell_type": "code",
   "execution_count": 130,
   "metadata": {},
   "outputs": [
    {
     "name": "stdout",
     "output_type": "stream",
     "text": [
      "torch.Size([256, 64, 1, 1])\n"
     ]
    },
    {
     "data": {
      "image/png": "[encoded data removed]",
      "text/plain": [
       "<matplotlib.figure.Figure at 0x7f95ace00470>"
      ]
     },
     "metadata": {},
     "output_type": "display_data"
    }
   ],
   "source": [
    "ik = 0\n",
    "kernel = model.layer1[1].conv3.weight.data.clone()\n",
    "print(kernel.shape)\n",
    "\n",
    "visualise_tensor(kernel, ch=0, allkernels=False)\n",
    "save_tensor(kernel,'laywer1.conv3.png', allkernels=False)\n",
    "\n",
    "plt.axis('off')\n",
    "plt.ioff()\n",
    "plt.show()"
   ]
  },
  {
   "cell_type": "code",
   "execution_count": 95,
   "metadata": {},
   "outputs": [
    {
     "data": {
      "text/plain": [
       "Bottleneck(\n",
       "  (conv1): Conv2d(256, 64, kernel_size=(1, 1), stride=(1, 1), bias=False)\n",
       "  (bn1): BatchNorm2d(64, eps=1e-05, momentum=0.1, affine=True)\n",
       "  (conv2): Conv2d(64, 64, kernel_size=(3, 3), stride=(1, 1), padding=(1, 1), bias=False)\n",
       "  (bn2): BatchNorm2d(64, eps=1e-05, momentum=0.1, affine=True)\n",
       "  (conv3): Conv2d(64, 256, kernel_size=(1, 1), stride=(1, 1), bias=False)\n",
       "  (bn3): BatchNorm2d(256, eps=1e-05, momentum=0.1, affine=True)\n",
       "  (relu): ReLU(inplace)\n",
       ")"
      ]
     },
     "execution_count": 95,
     "metadata": {},
     "output_type": "execute_result"
    }
   ],
   "source": [
    "ik = 0\n",
    "kernel = model.layer1[1].conv1.weight.data.clone()\n",
    "print(kernel.shape)\n",
    "\n",
    "vistensor(kernel, ch=0, allkernels=False)\n",
    "savetensor(kernel,'laywer1.conv1.png', allkernels=False)\n",
    "\n",
    "plt.axis('off')\n",
    "plt.ioff()\n",
    "plt.show()"
   ]
  },
  {
   "cell_type": "code",
   "execution_count": null,
   "metadata": {
    "collapsed": true
   },
   "outputs": [],
   "source": []
  }
 ],
 "metadata": {
  "kernelspec": {
   "display_name": "Python [conda env:anaconda3]",
   "language": "python",
   "name": "conda-env-anaconda3-py"
  },
  "language_info": {
   "codemirror_mode": {
    "name": "ipython",
    "version": 3
   },
   "file_extension": ".py",
   "mimetype": "text/x-python",
   "name": "python",
   "nbconvert_exporter": "python",
   "pygments_lexer": "ipython3",
   "version": "3.6.3"
  }
 },
 "nbformat": 4,
 "nbformat_minor": 2
}
